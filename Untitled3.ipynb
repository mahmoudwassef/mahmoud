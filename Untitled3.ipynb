{
  "nbformat": 4,
  "nbformat_minor": 0,
  "metadata": {
    "colab": {
      "provenance": [],
      "authorship_tag": "ABX9TyOCWdexvfT4/qni26FCUfw1",
      "include_colab_link": true
    },
    "kernelspec": {
      "name": "python3",
      "display_name": "Python 3"
    },
    "language_info": {
      "name": "python"
    }
  },
  "cells": [
    {
      "cell_type": "markdown",
      "metadata": {
        "id": "view-in-github",
        "colab_type": "text"
      },
      "source": [
        "<a href=\"https://colab.research.google.com/github/mahmoudwassef/mahmoud/blob/main/Untitled3.ipynb\" target=\"_parent\"><img src=\"https://colab.research.google.com/assets/colab-badge.svg\" alt=\"Open In Colab\"/></a>"
      ]
    },
    {
      "cell_type": "code",
      "execution_count": 2,
      "metadata": {
        "colab": {
          "base_uri": "https://localhost:8080/"
        },
        "id": "u8Cjhxtw4uxC",
        "outputId": "ae5e6547-edd1-47c3-a691-0d23e9c4aecd"
      },
      "outputs": [
        {
          "output_type": "stream",
          "name": "stdout",
          "text": [
            "Contacts List:\n",
            "ali\n",
            "mohamed\n",
            "omar\n",
            "\n",
            "Enter a name to search for their phone number: ali\n",
            "ali's phone number is 123-456-7890\n"
          ]
        }
      ],
      "source": [
        "\n",
        "contacts = {\n",
        "    \"ali\": \"123-456-7890\",\n",
        "    \"mohamed\": \"987-654-3210\",\n",
        "    \"omar\": \"555-666-7777\"}\n",
        "\n",
        "\n",
        "\n",
        "print(\"Contacts List:\")\n",
        "for name in contacts:\n",
        "    print(name)\n",
        "\n",
        "search_name = input(\"\\nEnter a name to search for their phone number: \")\n",
        "if search_name in contacts:\n",
        "    print(f\"{search_name}'s phone number is {contacts[search_name]}\")\n",
        "else:\n",
        "    print(f\"{search_name} is not in the contact book.\")\n"
      ]
    },
    {
      "cell_type": "code",
      "source": [
        "students = [\n",
        "    {\"name\": \"Alice\", \"grades\": [85, 90, 78]},\n",
        "    {\"name\": \"Bob\", \"grades\": [92, 88, 79]},\n",
        "    {\"name\": \"Charlie\", \"grades\": [75, 85, 82]}\n",
        "]\n",
        "\n",
        "for student in students:\n",
        "    avg_grade = sum(student[\"grades\"]) / len(student[\"grades\"])\n",
        "    print(f\"{student['name']}: Average Grade = {avg_grade:.2f}\")\n"
      ],
      "metadata": {
        "colab": {
          "base_uri": "https://localhost:8080/"
        },
        "id": "W6u15Evt5uBS",
        "outputId": "4aab8a52-1f16-4999-8973-daba6d0b566a"
      },
      "execution_count": 4,
      "outputs": [
        {
          "output_type": "stream",
          "name": "stdout",
          "text": [
            "Alice: Average Grade = 84.33\n",
            "Bob: Average Grade = 86.33\n",
            "Charlie: Average Grade = 80.67\n"
          ]
        }
      ]
    }
  ]
}