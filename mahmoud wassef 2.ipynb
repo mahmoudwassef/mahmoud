{
  "nbformat": 4,
  "nbformat_minor": 0,
  "metadata": {
    "colab": {
      "provenance": [],
      "authorship_tag": "ABX9TyOYdRYm6AUCXY8bO9gr9a0e",
      "include_colab_link": true
    },
    "kernelspec": {
      "name": "python3",
      "display_name": "Python 3"
    },
    "language_info": {
      "name": "python"
    }
  },
  "cells": [
    {
      "cell_type": "markdown",
      "metadata": {
        "id": "view-in-github",
        "colab_type": "text"
      },
      "source": [
        "<a href=\"https://colab.research.google.com/github/mahmoudwassef/mahmoud/blob/main/mahmoud%20wassef%202.ipynb\" target=\"_parent\"><img src=\"https://colab.research.google.com/assets/colab-badge.svg\" alt=\"Open In Colab\"/></a>"
      ]
    },
    {
      "cell_type": "code",
      "execution_count": 3,
      "metadata": {
        "colab": {
          "base_uri": "https://localhost:8080/"
        },
        "id": "O23BzaucU-Nw",
        "outputId": "c4bd0e54-b84e-44c9-9168-5110c790583f"
      },
      "outputs": [
        {
          "output_type": "stream",
          "name": "stdout",
          "text": [
            "Enter the current temperature in Celsius: 45\n",
            "It's a hot day. Stay hydrated!\n"
          ]
        }
      ],
      "source": [
        "\n",
        "temperature = int(input(\"Enter the current temperature in Celsius: \"))\n",
        "\n",
        "if temperature >= 30:\n",
        "    print(\"It's a hot day. Stay hydrated!\")\n",
        "elif 20 <= temperature <= 29:\n",
        "    print(\"It's a warm day. Enjoy the weather!\")\n",
        "elif 10 <= temperature <= 19:\n",
        "    print(\"It's a cool day. Wear a jacket!\")\n",
        "else:\n",
        "    print(\"It's a cold day. Stay warm!\")\n"
      ]
    },
    {
      "cell_type": "code",
      "source": [
        "numbers = [1, 21]\n",
        "divisble_by_3 = [num for num in numbers if num % 3 == 0]\n",
        "print(divisble_by_3)\n",
        "print(\"Numbers divisible by 3:\")"
      ],
      "metadata": {
        "colab": {
          "base_uri": "https://localhost:8080/"
        },
        "id": "UISG9nC0WbQ1",
        "outputId": "7f856fd5-d42a-45a1-e3f7-e11b3d950116"
      },
      "execution_count": 15,
      "outputs": [
        {
          "output_type": "stream",
          "name": "stdout",
          "text": [
            "[21]\n",
            "Numbers divisible by 3:\n"
          ]
        }
      ]
    }
  ]
}